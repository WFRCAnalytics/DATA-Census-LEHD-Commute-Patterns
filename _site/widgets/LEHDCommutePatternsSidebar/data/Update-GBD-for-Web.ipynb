{
 "cells": [
  {
   "cell_type": "code",
   "execution_count": 28,
   "metadata": {},
   "outputs": [],
   "source": [
    "import os\n",
    "import keyring\n",
    "import glob\n",
    "from ftplib import FTP\n",
    "from arcgis import GIS"
   ]
  },
  {
   "cell_type": "markdown",
   "metadata": {},
   "source": [
    "# Toggles"
   ]
  },
  {
   "cell_type": "code",
   "execution_count": 29,
   "metadata": {},
   "outputs": [],
   "source": [
    "# Switch to false to disable\n",
    "update_maps = True\n",
    "update_charts = True"
   ]
  },
  {
   "cell_type": "markdown",
   "metadata": {},
   "source": [
    "# Update files in arcgis online"
   ]
  },
  {
   "cell_type": "code",
   "execution_count": 31,
   "metadata": {},
   "outputs": [],
   "source": [
    "# Sign into ArcGIS Online\n",
    "un = 'analytics_wfrc'\n",
    "pw = keyring.get_password('Analytics AGOL', un)\n",
    "gis = GIS(username=un, password=pw)"
   ]
  },
  {
   "cell_type": "code",
   "execution_count": 32,
   "metadata": {},
   "outputs": [],
   "source": [
    "# store path to the new data\n",
    "lehd_gbd = r\".\\data2019\\LEHDCommutePatterns.gdb.zip\""
   ]
  },
  {
   "cell_type": "code",
   "execution_count": 33,
   "metadata": {},
   "outputs": [],
   "source": [
    "# store item ids\n",
    "lehd_item_id = 'c264ae61525f423dbfc3a29defeb3962'"
   ]
  },
  {
   "cell_type": "code",
   "execution_count": 34,
   "metadata": {},
   "outputs": [],
   "source": [
    "def update_and_republish_item(id, new_zip):\n",
    "    item = gis.content.get(id)\n",
    "    name = item['title']\n",
    "\n",
    "    # update the data source\n",
    "    print(f'Updating data source for {name}...')\n",
    "    item.update(data=new_zip) # store this result and test, while loop?\n",
    "\n",
    "    # republish the feature layer(s)\n",
    "    print(f'Publishing {name}...')\n",
    "    status = 0\n",
    "    attempts = 0\n",
    "    attempts_allowed = 15\n",
    "\n",
    "    while status == 0:\n",
    "        if attempts < attempts_allowed:\n",
    "            attempts = attempts + 1\n",
    "            try:\n",
    "                item.publish(overwrite=True)\n",
    "            except:\n",
    "                print(f'--Failed to publish {name} after {attempts} attempts. Trying again...')\n",
    "            else:\n",
    "                status = 1\n",
    "                print(f'--Successfully published {name} after {attempts} attempt(s)!')             \n",
    "        else:\n",
    "            status = 2\n",
    "            raise Exception(f'--Error: Failed to publish {name} after {attempts} attempts!')\n"
   ]
  },
  {
   "cell_type": "code",
   "execution_count": 35,
   "metadata": {},
   "outputs": [
    {
     "name": "stdout",
     "output_type": "stream",
     "text": [
      "Updating data source for LEHDCommutePatterns_gdb...\n",
      "Publishing LEHDCommutePatterns_gdb...\n",
      "--Failed to publish LEHDCommutePatterns_gdb after 1 attempts. Trying again...\n",
      "--Failed to publish LEHDCommutePatterns_gdb after 2 attempts. Trying again...\n",
      "--Failed to publish LEHDCommutePatterns_gdb after 3 attempts. Trying again...\n",
      "--Failed to publish LEHDCommutePatterns_gdb after 4 attempts. Trying again...\n",
      "--Failed to publish LEHDCommutePatterns_gdb after 5 attempts. Trying again...\n",
      "--Failed to publish LEHDCommutePatterns_gdb after 6 attempts. Trying again...\n",
      "--Failed to publish LEHDCommutePatterns_gdb after 7 attempts. Trying again...\n",
      "--Failed to publish LEHDCommutePatterns_gdb after 8 attempts. Trying again...\n",
      "--Failed to publish LEHDCommutePatterns_gdb after 9 attempts. Trying again...\n",
      "--Failed to publish LEHDCommutePatterns_gdb after 10 attempts. Trying again...\n",
      "--Failed to publish LEHDCommutePatterns_gdb after 11 attempts. Trying again...\n",
      "--Failed to publish LEHDCommutePatterns_gdb after 12 attempts. Trying again...\n",
      "--Failed to publish LEHDCommutePatterns_gdb after 13 attempts. Trying again...\n",
      "--Failed to publish LEHDCommutePatterns_gdb after 14 attempts. Trying again...\n",
      "--Failed to publish LEHDCommutePatterns_gdb after 15 attempts. Trying again...\n"
     ]
    },
    {
     "ename": "Exception",
     "evalue": "--Error: Failed to publish LEHDCommutePatterns_gdb after 15 attempts!",
     "output_type": "error",
     "traceback": [
      "\u001b[1;31m---------------------------------------------------------------------------\u001b[0m",
      "\u001b[1;31mException\u001b[0m                                 Traceback (most recent call last)",
      "\u001b[1;32m<ipython-input-35-4f52703d6afc>\u001b[0m in \u001b[0;36m<module>\u001b[1;34m\u001b[0m\n\u001b[0;32m      1\u001b[0m \u001b[1;32mif\u001b[0m \u001b[0mupdate_maps\u001b[0m \u001b[1;33m==\u001b[0m \u001b[1;32mTrue\u001b[0m\u001b[1;33m:\u001b[0m\u001b[1;33m\u001b[0m\u001b[1;33m\u001b[0m\u001b[0m\n\u001b[0;32m      2\u001b[0m     \u001b[1;31m# update the data source, then republish\u001b[0m\u001b[1;33m\u001b[0m\u001b[1;33m\u001b[0m\u001b[1;33m\u001b[0m\u001b[0m\n\u001b[1;32m----> 3\u001b[1;33m     \u001b[0mupdate_and_republish_item\u001b[0m\u001b[1;33m(\u001b[0m\u001b[0mlehd_item_id\u001b[0m\u001b[1;33m,\u001b[0m \u001b[0mlehd_gbd\u001b[0m\u001b[1;33m)\u001b[0m\u001b[1;33m\u001b[0m\u001b[1;33m\u001b[0m\u001b[0m\n\u001b[0m",
      "\u001b[1;32m<ipython-input-34-79790412f5c7>\u001b[0m in \u001b[0;36mupdate_and_republish_item\u001b[1;34m(id, new_zip)\u001b[0m\n\u001b[0;32m     25\u001b[0m         \u001b[1;32melse\u001b[0m\u001b[1;33m:\u001b[0m\u001b[1;33m\u001b[0m\u001b[1;33m\u001b[0m\u001b[0m\n\u001b[0;32m     26\u001b[0m             \u001b[0mstatus\u001b[0m \u001b[1;33m=\u001b[0m \u001b[1;36m2\u001b[0m\u001b[1;33m\u001b[0m\u001b[1;33m\u001b[0m\u001b[0m\n\u001b[1;32m---> 27\u001b[1;33m             \u001b[1;32mraise\u001b[0m \u001b[0mException\u001b[0m\u001b[1;33m(\u001b[0m\u001b[1;34mf'--Error: Failed to publish {name} after {attempts} attempts!'\u001b[0m\u001b[1;33m)\u001b[0m\u001b[1;33m\u001b[0m\u001b[1;33m\u001b[0m\u001b[0m\n\u001b[0m",
      "\u001b[1;31mException\u001b[0m: --Error: Failed to publish LEHDCommutePatterns_gdb after 15 attempts!"
     ]
    }
   ],
   "source": [
    "if update_maps == True:\n",
    "    # update the data source, then republish\n",
    "    update_and_republish_item(lehd_item_id, lehd_gbd)"
   ]
  },
  {
   "cell_type": "markdown",
   "metadata": {},
   "source": [
    "# Update files on server"
   ]
  },
  {
   "cell_type": "code",
   "execution_count": 10,
   "metadata": {},
   "outputs": [
    {
     "data": {
      "text/plain": [
       "'230 OK. Current restricted directory is /'"
      ]
     },
     "execution_count": 10,
     "metadata": {},
     "output_type": "execute_result"
    }
   ],
   "source": [
    "local_chart_folder = r'.\\Outputs\\chart'\n",
    "un2= 'wfrcorg'\n",
    "pw2 = keyring.get_password('WFRC File Server', un2)\n",
    "ip = keyring.get_password('WFRC File Server IP', un2)\n",
    "ftp = FTP(ip, timeout=1200)\n",
    "ftp.login(user=un2, passwd =pw2)"
   ]
  },
  {
   "cell_type": "code",
   "execution_count": 11,
   "metadata": {},
   "outputs": [
    {
     "name": "stdout",
     "output_type": "stream",
     "text": [
      "deleting old jsons (CITYAREA)...\n",
      "uploading new jsons (CITYAREA)...\n",
      "deleting old jsons (COUNTY)...\n",
      "uploading new jsons (COUNTY)...\n",
      "deleting old jsons (DISTMED)...\n",
      "uploading new jsons (DISTMED)...\n",
      "deleting old jsons (OTHERAREA)...\n",
      "uploading new jsons (OTHERAREA)...\n",
      "deleting old jsons (TAZ)...\n",
      "uploading new jsons (TAZ)...\n"
     ]
    }
   ],
   "source": [
    "if update_charts == True:\n",
    "    geogs = ['CITYAREA', 'COUNTY', 'DISTMED', 'OTHERAREA', 'TAZ']\n",
    "\n",
    "    for geog in geogs:\n",
    "        ftp.cwd(f'/public_html/household-job-forecast-map/widgets/SESidebar/data/chart/{geog}')\n",
    "        \n",
    "        old_jsons = [item for item in ftp.nlst() if item not in ['.','..'] and item.endswith('.json')]\n",
    "        if len(old_jsons) > 0:\n",
    "            print(f'deleting old jsons ({geog})...')\n",
    "            for json in old_jsons:\n",
    "                # print(json)\n",
    "                ftp.delete(json)\n",
    "        else:\n",
    "            print(f'no jsons to delete ({geog})...')\n",
    "\n",
    "        print(f'uploading new jsons ({geog})...')\n",
    "        new_jsons = glob.glob(os.path.join(local_chart_folder, geog, '*.json'))\n",
    "        \n",
    "        for json in new_jsons:\n",
    "            #print(json)\n",
    "            with open(json,'rb') as file:\n",
    "                ftp.storbinary('STOR ' + os.path.basename(json), file)"
   ]
  },
  {
   "cell_type": "markdown",
   "metadata": {},
   "source": [
    "# Update Downloable dataset on server"
   ]
  },
  {
   "cell_type": "code",
   "execution_count": 12,
   "metadata": {},
   "outputs": [],
   "source": [
    "ftp.cwd(f'/public_html/MapsData/SocioEconomicData')\n",
    "ftp.delete('WFRC_SE_FORECAST_2019_2050_DRAFT.zip')\n",
    "\n",
    "zip_for_download = r\".\\Outputs\\WFRC_SE_FORECAST_2019_2050_DRAFT.zip\"\n",
    "with open(zip_for_download,'rb') as file:\n",
    "                ftp.storbinary('STOR ' + os.path.basename(zip_for_download), file)"
   ]
  },
  {
   "cell_type": "code",
   "execution_count": 13,
   "metadata": {},
   "outputs": [
    {
     "data": {
      "text/plain": [
       "'221-Goodbye. You uploaded 73508 and downloaded 0 kbytes.\\n221 Logout.'"
      ]
     },
     "execution_count": 13,
     "metadata": {},
     "output_type": "execute_result"
    }
   ],
   "source": [
    "# close the connection\n",
    "ftp.quit()"
   ]
  }
 ],
 "metadata": {
  "kernelspec": {
   "display_name": "arcgispro-py3-clone",
   "language": "python",
   "name": "arcgispro-py3-clone"
  },
  "language_info": {
   "codemirror_mode": {
    "name": "ipython",
    "version": 3
   },
   "file_extension": ".py",
   "mimetype": "text/x-python",
   "name": "python",
   "nbconvert_exporter": "python",
   "pygments_lexer": "ipython3",
   "version": "3.7.11"
  },
  "orig_nbformat": 4,
  "vscode": {
   "interpreter": {
    "hash": "3245673af07dcc28bdd829afb187282e9288a1f8195a5928b70ecba6e5973721"
   }
  }
 },
 "nbformat": 4,
 "nbformat_minor": 2
}
