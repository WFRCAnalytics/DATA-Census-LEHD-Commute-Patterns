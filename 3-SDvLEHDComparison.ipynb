{
 "cells": [
  {
   "attachments": {},
   "cell_type": "markdown",
   "metadata": {},
   "source": [
    "## Notes\n",
    "### Check sl bg fakeids"
   ]
  },
  {
   "cell_type": "code",
   "execution_count": 22,
   "metadata": {},
   "outputs": [],
   "source": [
    "import numpy as np\n",
    "import os\n",
    "import pandas as pd\n",
    "import arcpy\n",
    "\n",
    "# Import the required ArcGIS API for Python modules\n",
    "import arcgis\n",
    "from arcgis.gis import GIS\n",
    "gis = arcgis.GIS()\n",
    "from arcgis.geoanalytics import manage_data\n",
    "\n",
    "from IPython.display import display, Markdown"
   ]
  },
  {
   "cell_type": "code",
   "execution_count": 16,
   "metadata": {},
   "outputs": [
    {
     "name": "stdout",
     "output_type": "stream",
     "text": [
      "Working Directory: c:\\Users\\cday\\Documents\\projects\\Census-LEHD-Commute-Patterns\n",
      "Intermediate Directory: c:\\Users\\cday\\Documents\\projects\\Census-LEHD-Commute-Patterns\\intermediate\\intermediate2019\\LEHDVSL\n",
      "Results Directory: c:\\Users\\cday\\Documents\\projects\\Census-LEHD-Commute-Patterns\\results\\results2019\\LEHDVSL\n"
     ]
    }
   ],
   "source": [
    "dirWork         = os.getcwd()\n",
    "year            = '2019'\n",
    "#dirInput        = os.path.join(dirWork, r'data\\data' + year                            )\n",
    "\n",
    "dirLEHD         = os.path.join(dirWork, r'results\\results' + year + '\\LODES'            )\n",
    "dirSL           = os.path.join(dirWork, r'results\\results' + year + '\\SL'               ) \n",
    "dirIntermediate = os.path.join(dirWork, 'intermediate\\intermediate' + year + '\\LEHDVSL')\n",
    "dirResults      = os.path.join(dirWork, r'results\\results' + year + '\\LEHDVSL'         )\n",
    "\n",
    "print(\"Working Directory: \"      + dirWork        )\n",
    "#print(\"Input Directory: \"        + dirInput       )\n",
    "print(\"Intermediate Directory: \" + dirIntermediate)\n",
    "print(\"Results Directory: \"      + dirResults     )"
   ]
  },
  {
   "cell_type": "code",
   "execution_count": 111,
   "metadata": {},
   "outputs": [],
   "source": [
    "#input filenames\n",
    "gdb_LEHDCommutePatterns = \"LEHDCommutePatterns.gdb\"\n",
    "gdb_SLCommutePatterns = \"SLCommutePatterns.gdb\"\n",
    "fname_LEHDCommutePatterns_gdb = os.path.join(dirLEHD, gdb_LEHDCommutePatterns)\n",
    "fname_SLCommutePatterns_gdb = os.path.join(dirSL, gdb_SLCommutePatterns)\n",
    "\n",
    "lehd_BlockGroupsWCommutePatterns_Number = os.path.join(fname_LEHDCommutePatterns_gdb, 'LEHD_BlockGroup_CommutePatterns_Number')\n",
    "lehd_TractsWCommutePatterns_Number = os.path.join(fname_LEHDCommutePatterns_gdb, 'LEHD_Tract_CommutePatterns_Number')\n",
    "lehd_SDWCommutePatterns_Number = os.path.join(fname_LEHDCommutePatterns_gdb, 'LEHD_SD_CommutePatterns_Number')\n",
    "lehd_CitiesWCommutePatterns_Number = os.path.join(fname_LEHDCommutePatterns_gdb, 'LEHD_City_CommutePatterns_Number')\n",
    "\n",
    "sl_BlockGroupsWCommutePatterns_Number = os.path.join(fname_SLCommutePatterns_gdb, 'SL_BlockGroup_CommutePatterns_Number')\n",
    "sl_TractsWCommutePatterns_Number = os.path.join(fname_SLCommutePatterns_gdb, 'SL_Tract_CommutePatterns_Number')\n",
    "sl_SDWCommutePatterns_Number = os.path.join(fname_SLCommutePatterns_gdb, 'SL_SD_CommutePatterns_Number')\n",
    "sl_CitiesWCommutePatterns_Number = os.path.join(fname_SLCommutePatterns_gdb, 'SL_City_CommutePatterns_Number')"
   ]
  },
  {
   "cell_type": "code",
   "execution_count": 107,
   "metadata": {},
   "outputs": [
    {
     "name": "stdout",
     "output_type": "stream",
     "text": [
      "Checking if c:\\Users\\cday\\Documents\\projects\\Census-LEHD-Commute-Patterns\\results\\results2019\\LEHDVSL\\LEHDVSLCommutePatterns.gdb exists...\n",
      "LEHDVSLCommutePatterns.gdb exists...\n"
     ]
    }
   ],
   "source": [
    "#output filenames\n",
    "gdb_LEHDVSLCommutePatterns = \"LEHDVSLCommutePatterns.gdb\"\n",
    "fname_LEHDVSLCommutePatterns_gdb = os.path.join(dirResults, gdb_LEHDVSLCommutePatterns)\n",
    "\n",
    "fname_BlockGroupsWCommutePatterns_Number = os.path.join(fname_LEHDVSLCommutePatterns_gdb, 'LEHDVSL_BlockGroup_CommutePatterns_Number')\n",
    "fname_TractsWCommutePatterns_Number = os.path.join(fname_LEHDVSLCommutePatterns_gdb, 'LEHDVSL_Tract_CommutePatterns_Number')\n",
    "fname_SDWCommutePatterns_Number = os.path.join(fname_LEHDVSLCommutePatterns_gdb, 'LEHDVSL_SD_CommutePatterns_Number')\n",
    "fname_CitiesWCommutePatterns_Number = os.path.join(fname_LEHDVSLCommutePatterns_gdb, 'LEHDVSL_City_CommutePatterns_Number')\n",
    "\n",
    "fname_BlockGroupsWCommutePatterns_PercDiff = os.path.join(fname_LEHDVSLCommutePatterns_gdb, 'LEHDVSL_BlockGroup_CommutePatterns_PercDiff')\n",
    "fname_TractsWCommutePatterns_PercDiff = os.path.join(fname_LEHDVSLCommutePatterns_gdb, 'LEHDVSL_Tract_CommutePatterns_PercDiff')\n",
    "fname_SDWCommutePatterns_PercDiff = os.path.join(fname_LEHDVSLCommutePatterns_gdb, 'LEHDVSL_SD_CommutePatterns_PercDiff')\n",
    "fname_CitiesWCommutePatterns_PercDiff = os.path.join(fname_LEHDVSLCommutePatterns_gdb, 'LEHDVSL_City_CommutePatterns_PercDiff')\n",
    "\n",
    "def deleteIfExists(obj):\n",
    "    if arcpy.Exists(obj): arcpy.Delete_management(obj)\n",
    "\n",
    "#if results geodatabase doesn't exist, create it\n",
    "print(\"Checking if \" + fname_LEHDVSLCommutePatterns_gdb + \" exists...\")\n",
    "if not arcpy.Exists(os.path.join(dirResults, gdb_LEHDVSLCommutePatterns)):\n",
    "    print(\"Creating \" + fname_LEHDVSLCommutePatterns_gdb + \"...\")\n",
    "    arcpy.management.CreateFileGDB(dirResults, gdb_LEHDVSLCommutePatterns)\n",
    "else:\n",
    "    print(gdb_LEHDVSLCommutePatterns + \" exists...\")"
   ]
  },
  {
   "cell_type": "code",
   "execution_count": 126,
   "metadata": {},
   "outputs": [],
   "source": [
    "def get_dif_between_layers(lehdLayer, slLayer, colname, range1, range2, range3):\n",
    "    sdf_lehd = pd.DataFrame.spatial.from_featureclass(lehdLayer)\n",
    "    sdf_sl = pd.DataFrame.spatial.from_featureclass(slLayer)\n",
    "\n",
    "    # replace _o and _d with _h and _w in streetlight data\n",
    "    sdf_sl.columns = sdf_sl.columns.str.replace('_o','_h',regex=True)\n",
    "    sdf_sl.columns = sdf_sl.columns.str.replace('_d','_w',regex=True)\n",
    "\n",
    "    # select needed columns only\n",
    "    sdf_lehd_small = sdf_lehd.iloc[:, range1]\n",
    "    sdf_sl_small = sdf_sl.iloc[:, range2]\n",
    "\n",
    "    # set index columns\n",
    "    sdf_lehd_small.set_index([colname,'SHAPE'], inplace=True)\n",
    "    sdf_sl_small.set_index([colname,'SHAPE'], inplace=True)\n",
    "\n",
    "    # get base columns to merge on later\n",
    "    sdf_lehd_cols = sdf_lehd.iloc[:, range3]\n",
    "    sdf_sl_cols = sdf_sl.iloc[:, range3]\n",
    "\n",
    "    # calculate difference between dataframes\n",
    "    sdf_diff = sdf_sl_small.subtract(sdf_lehd_small, fill_value=0).reset_index()\n",
    "\n",
    "    # merge missing columns back on\n",
    "    sdf_diff_full = sdf_diff.merge(sdf_lehd_cols, on = colname, how = 'left')\n",
    "\n",
    "    return sdf_diff_full\n",
    "\n",
    "\n",
    "def get_pc_between_layers(lehdLayer, slLayer, colname, range1, range2, range3):\n",
    "    sdf_lehd = pd.DataFrame.spatial.from_featureclass(lehdLayer)\n",
    "    sdf_sl = pd.DataFrame.spatial.from_featureclass(slLayer)\n",
    "\n",
    "    # replace _o and _d with _h and _w in streetlight data\n",
    "    sdf_sl.columns = sdf_sl.columns.str.replace('_o','_h',regex=True)\n",
    "    sdf_sl.columns = sdf_sl.columns.str.replace('_d','_w',regex=True)\n",
    "\n",
    "    # select needed columns only\n",
    "    sdf_lehd_small = sdf_lehd.iloc[:, range1]\n",
    "    sdf_sl_small = sdf_sl.iloc[:, range2]\n",
    "\n",
    "    # set index columns\n",
    "    sdf_lehd_small.set_index([colname,'SHAPE'], inplace=True)\n",
    "    sdf_sl_small.set_index([colname,'SHAPE'], inplace=True)\n",
    "\n",
    "    # get base columns to merge on later\n",
    "    sdf_lehd_cols = sdf_lehd.iloc[:, range3]\n",
    "    sdf_sl_cols = sdf_sl.iloc[:, range3]\n",
    "\n",
    "    # calculate difference and pc between dataframes\n",
    "    sdf_diff = sdf_sl_small.subtract(sdf_lehd_small, fill_value=0)\n",
    "    sdf_pc = sdf_diff.div(sdf_lehd_small,fill_value = 0).mul(100)\n",
    "\n",
    "    # reset index\n",
    "    sdf_pc = sdf_pc.reset_index()\n",
    "\n",
    "    # merge missing columns back on\n",
    "    sdf_pc_full = sdf_pc.merge(sdf_lehd_cols, on = colname, how = 'left')\n",
    "\n",
    "    return sdf_pc_full\n",
    "\n",
    "    \n"
   ]
  },
  {
   "cell_type": "code",
   "execution_count": 123,
   "metadata": {},
   "outputs": [],
   "source": [
    "sdf_bg_diff = get_dif_between_layers(lehd_BlockGroupsWCommutePatterns_Number, sl_BlockGroupsWCommutePatterns_Number, 'GEOID', np.r_[7,18:236], np.r_[7,18:236], np.r_[0:17])\n",
    "sdf_bg_pc   = get_pc_between_layers(lehd_BlockGroupsWCommutePatterns_Number, sl_BlockGroupsWCommutePatterns_Number, 'GEOID', np.r_[7,18:236], np.r_[7,18:236], np.r_[0:17])"
   ]
  },
  {
   "cell_type": "code",
   "execution_count": 141,
   "metadata": {},
   "outputs": [
    {
     "data": {
      "text/plain": [
       "'c:\\\\Users\\\\cday\\\\Documents\\\\projects\\\\Census-LEHD-Commute-Patterns\\\\results\\\\results2019\\\\LEHDVSL\\\\LEHDVSLCommutePatterns.gdb\\\\LEHDVSL_BlockGroup_CommutePatterns_PercDiff'"
      ]
     },
     "execution_count": 141,
     "metadata": {},
     "output_type": "execute_result"
    }
   ],
   "source": [
    "sdf_bg_diff.spatial.to_featureclass(fname_BlockGroupsWCommutePatterns_Number, sanitize_columns=False)\n",
    "sdf_bg_pc.spatial.to_featureclass(fname_BlockGroupsWCommutePatterns_PercDiff, sanitize_columns=False)"
   ]
  },
  {
   "cell_type": "code",
   "execution_count": 127,
   "metadata": {},
   "outputs": [],
   "source": [
    "sdf_tract_diff= get_dif_between_layers(lehd_TractsWCommutePatterns_Number, sl_TractsWCommutePatterns_Number, 'GEOID20', np.r_[5,18:235],  np.r_[5,18:234], np.r_[0:17])\n",
    "sdf_tract_pc  = get_pc_between_layers(lehd_TractsWCommutePatterns_Number, sl_TractsWCommutePatterns_Number, 'GEOID20', np.r_[5,18:235],  np.r_[5,18:234], np.r_[0:17])"
   ]
  },
  {
   "cell_type": "code",
   "execution_count": 142,
   "metadata": {},
   "outputs": [
    {
     "data": {
      "text/plain": [
       "'c:\\\\Users\\\\cday\\\\Documents\\\\projects\\\\Census-LEHD-Commute-Patterns\\\\results\\\\results2019\\\\LEHDVSL\\\\LEHDVSLCommutePatterns.gdb\\\\LEHDVSL_Tract_CommutePatterns_PercDiff'"
      ]
     },
     "execution_count": 142,
     "metadata": {},
     "output_type": "execute_result"
    }
   ],
   "source": [
    "sdf_tract_diff.spatial.to_featureclass(fname_TractsWCommutePatterns_Number, sanitize_columns=False)\n",
    "sdf_tract_pc.spatial.to_featureclass(fname_TractsWCommutePatterns_PercDiff, sanitize_columns=False)"
   ]
  },
  {
   "cell_type": "code",
   "execution_count": 139,
   "metadata": {},
   "outputs": [],
   "source": [
    "sdf_sd_diff = get_dif_between_layers(lehd_SDWCommutePatterns_Number, sl_SDWCommutePatterns_Number, 'DSML_NAME', np.r_[3,8:225], np.r_[3,8:224], np.r_[0:7])\n",
    "sdf_sd_pc   = get_pc_between_layers(lehd_SDWCommutePatterns_Number, sl_SDWCommutePatterns_Number, 'DSML_NAME', np.r_[3,8:225], np.r_[3,8:224], np.r_[0:7])"
   ]
  },
  {
   "cell_type": "code",
   "execution_count": 143,
   "metadata": {},
   "outputs": [
    {
     "data": {
      "text/plain": [
       "'c:\\\\Users\\\\cday\\\\Documents\\\\projects\\\\Census-LEHD-Commute-Patterns\\\\results\\\\results2019\\\\LEHDVSL\\\\LEHDVSLCommutePatterns.gdb\\\\LEHDVSL_SD_CommutePatterns_PercDiff'"
      ]
     },
     "execution_count": 143,
     "metadata": {},
     "output_type": "execute_result"
    }
   ],
   "source": [
    "sdf_sd_diff.spatial.to_featureclass(fname_SDWCommutePatterns_Number, sanitize_columns=False)\n",
    "sdf_sd_pc.spatial.to_featureclass(fname_SDWCommutePatterns_PercDiff, sanitize_columns=False)"
   ]
  },
  {
   "cell_type": "code",
   "execution_count": 140,
   "metadata": {},
   "outputs": [],
   "source": [
    "sdf_city_diff = get_dif_between_layers(lehd_CitiesWCommutePatterns_Number, sl_CitiesWCommutePatterns_Number, 'CODE3', np.r_[1,4:222], np.r_[1,4:221], np.r_[0:3])\n",
    "sdf_city_pc   = get_pc_between_layers(lehd_CitiesWCommutePatterns_Number, sl_CitiesWCommutePatterns_Number, 'CODE3', np.r_[1,4:222], np.r_[1,4:221], np.r_[0:3])"
   ]
  },
  {
   "cell_type": "code",
   "execution_count": 144,
   "metadata": {},
   "outputs": [
    {
     "data": {
      "text/plain": [
       "'c:\\\\Users\\\\cday\\\\Documents\\\\projects\\\\Census-LEHD-Commute-Patterns\\\\results\\\\results2019\\\\LEHDVSL\\\\LEHDVSLCommutePatterns.gdb\\\\LEHDVSL_City_CommutePatterns_PercDiff'"
      ]
     },
     "execution_count": 144,
     "metadata": {},
     "output_type": "execute_result"
    }
   ],
   "source": [
    "sdf_city_diff.spatial.to_featureclass(fname_CitiesWCommutePatterns_Number, sanitize_columns=False)\n",
    "sdf_city_pc.spatial.to_featureclass(fname_CitiesWCommutePatterns_PercDiff, sanitize_columns=False)"
   ]
  },
  {
   "attachments": {},
   "cell_type": "markdown",
   "metadata": {},
   "source": [
    "### Testing\n"
   ]
  },
  {
   "cell_type": "code",
   "execution_count": 138,
   "metadata": {},
   "outputs": [],
   "source": [
    "sdf_lehd_city_number = pd.DataFrame.spatial.from_featureclass(lehd_CitiesWCommutePatterns_Number)\n",
    "sdf_sl_city_number = pd.DataFrame.spatial.from_featureclass(sl_CitiesWCommutePatterns_Number)\n",
    "\n",
    "# replace _o and _d with _h and _w in streetlight data\n",
    "sdf_sl_city_number.columns = sdf_sl_city_number.columns.str.replace('_o','_h',regex=True)\n",
    "sdf_sl_city_number.columns = sdf_sl_city_number.columns.str.replace('_d','_w',regex=True)\n",
    "\n",
    "# select needed columns only\n",
    "sdf_lehd_city_number_small = sdf_lehd_city_number.iloc[:, np.r_[1,4:222]]\n",
    "sdf_sl_city_number_small = sdf_sl_city_number.iloc[:, np.r_[1,4:221]]\n",
    "\n",
    "# set index columns\n",
    "sdf_lehd_city_number_small.set_index(['CODE3','SHAPE'], inplace=True)\n",
    "sdf_sl_city_number_small.set_index(['CODE3','SHAPE'], inplace=True)"
   ]
  },
  {
   "cell_type": "code",
   "execution_count": 96,
   "metadata": {},
   "outputs": [],
   "source": [
    "sdf_lehd_bg_number = pd.DataFrame.spatial.from_featureclass(lehd_BlockGroupsWCommutePatterns_Number)\n",
    "sdf_sl_bg_number = pd.DataFrame.spatial.from_featureclass(sl_BlockGroupsWCommutePatterns_Number)\n",
    "\n",
    "# replace _o and _d with _h and _w in streetlight data\n",
    "sdf_sl_bg_number.columns = sdf_sl_bg_number.columns.str.replace('_o','_h',regex=True)\n",
    "sdf_sl_bg_number.columns = sdf_sl_bg_number.columns.str.replace('_d','_w',regex=True)\n",
    "\n",
    "# select needed columns only\n",
    "sdf_lehd_bg_number_small = sdf_lehd_bg_number.iloc[:, np.r_[7,18:236]]\n",
    "sdf_sl_bg_number_small = sdf_sl_bg_number.iloc[:, np.r_[7,18:236]]\n",
    "\n",
    "# set index columns\n",
    "sdf_lehd_bg_number_small.set_index(['GEOID','SHAPE'], inplace=True)\n",
    "sdf_sl_bg_number_small.set_index(['GEOID','SHAPE'], inplace=True)\n",
    "\n",
    "# get base columns to merge on later\n",
    "sdf_lehd_bg_base_cols = sdf_lehd_bg_number.iloc[:, np.r_[0:17]]\n",
    "sdf_sl_bg_base_cols = sdf_sl_bg_number.iloc[:, np.r_[0:17]]\n",
    "\n",
    "# display tables\n",
    "#display(sdf_lehd_bg_number_small)\n",
    "#display(sdf_sl_bg_number_small)"
   ]
  },
  {
   "cell_type": "code",
   "execution_count": 97,
   "metadata": {},
   "outputs": [],
   "source": [
    "sdf_bg_number_diff = sdf_sl_bg_number_small.subtract(sdf_lehd_bg_number_small, fill_value=0)\n",
    "sdf_bg_number_pc = sdf_bg_number_diff.div(sdf_lehd_bg_number_small,fill_value = 0).mul(100)\n",
    "\n",
    "sdf_bg_number_diff = sdf_bg_number_diff.reset_index()\n",
    "sdf_bg_number_pc = sdf_bg_number_pc.reset_index()"
   ]
  },
  {
   "cell_type": "code",
   "execution_count": 99,
   "metadata": {},
   "outputs": [],
   "source": [
    "sdf_bg_number_diff_full = sdf_bg_number_diff.merge(sdf_lehd_bg_base_cols, on = 'GEOID', how = 'left')\n",
    "sdf_bg_number_pc_full = sdf_bg_number_pc.merge(sdf_lehd_bg_base_cols, on = 'GEOID', how = 'left')"
   ]
  },
  {
   "cell_type": "code",
   "execution_count": 200,
   "metadata": {},
   "outputs": [
    {
     "name": "stdout",
     "output_type": "stream",
     "text": [
      "Checking if c:\\Users\\cday\\Documents\\projects\\Census-LEHD-Commute-Patterns\\results\\results2019\\SL\\SLCommutePatterns.gdb exists...\n",
      "Creating c:\\Users\\cday\\Documents\\projects\\Census-LEHD-Commute-Patterns\\results\\results2019\\SL\\SLCommutePatterns.gdb...\n"
     ]
    }
   ],
   "source": [
    "#input filenames\n",
    "fname_CityTownship_csv        = os.path.join(dirInput, 'citytownship.csv'                                         )\n",
    "fname_CityTownship_shp        = os.path.join(dirInput, 'Municipalities_Township' + r'\\Municipalities_Township.shp') \n",
    "fname_SLCommutePatterns_csv = os.path.join(dirInput, 'sl_at_blockgroup_level' + year + '.csv'                   )\n",
    "#fname_UofUManualAllocation_csv= os.path.join(dirInput, '490351108004_Manual_Allocation.csv'                      )\n",
    "fname_BlockGroups_shp         = os.path.join(dirInput, 'tl_2020_49_bg' + r'\\tl_2020_49_sd_bg.shp'                 )\n",
    "fname_Counties_AGRC_shp       = os.path.join(dirInput, 'Utah_County_Boundaries-shp' + r'\\Counties.shp'            )\n",
    "fname_SLCommutePatterns_csv\n",
    "\n",
    "#intermediate\n",
    "fname_CityTownshipCounty_BlockGroups_shp = os.path.join(dirIntermediate, 'citytownshipcounty_blockgroup_intersect.shp')\n",
    "fname_CityTownshipWCodes_shp             = os.path.join(dirIntermediate, 'Municipalities_Townships_withCodes.shp')\n",
    "fname_CountyWCodes_shp                   = os.path.join(dirIntermediate, 'Counties_withCodes.shp')\n",
    "fname_CityTownshipWCodesUnionCounty_shp  = os.path.join(dirIntermediate, 'Municipalities_Townships_withCodes_Counties.shp')\n",
    "fname_CityTownshipCountyWCodes_shp       = os.path.join(dirIntermediate, 'Municipalities_Townships_Counties_withCodes.shp')\n",
    "\n",
    "#display(dirIntermediate)\n",
    "\n",
    "#results geodatabase\n",
    "\n",
    "fname_CityTownshipJSON = os.path.join(dirResults, \"sl_citytownshipdata.json\")\n",
    "\n",
    "gdb_SLCommutePatterns = \"SLCommutePatterns.gdb\"\n",
    "fname_SLCommutePatterns_gdb = os.path.join(dirResults, gdb_SLCommutePatterns)\n",
    "\n",
    "fname_CityTownshipWCodes = os.path.join(fname_SLCommutePatterns_gdb, 'Municipalities_and_Townships')\n",
    "#fname_CityTownshipCounty = os.path.join(fname_SLCommutePatterns_gdb, 'Municipalities_Townships_Counties')\n",
    "\n",
    "fname_BlockGroupsWCommutePatterns_Number = os.path.join(fname_SLCommutePatterns_gdb, 'LEHDVSL_BlockGroup_CommutePatterns_Number')\n",
    "fname_BlockGroupsWCommutePatterns_Percent = os.path.join(fname_SLCommutePatterns_gdb, 'LEHDVSL_BlockGroup_CommutePatterns_Percent')\n",
    "\n",
    "fname_TractsWCommutePatterns_Number = os.path.join(fname_SLCommutePatterns_gdb, 'LEHDVSL_Tract_CommutePatterns_Number')\n",
    "fname_TractsWCommutePatterns_Percent = os.path.join(fname_SLCommutePatterns_gdb, 'LEHDVSL_Tract_CommutePatterns_Percent')\n",
    "\n",
    "fname_SDWCommutePatterns_Number = os.path.join(fname_SLCommutePatterns_gdb, 'LEHDVSL_SD_CommutePatterns_Number')\n",
    "fname_SDWCommutePatterns_Percent = os.path.join(fname_SLCommutePatterns_gdb, 'LEHDVSL_SD_CommutePatterns_Percent')\n",
    "\n",
    "fname_CitiesWCommutePatterns_Number = os.path.join(fname_SLCommutePatterns_gdb, 'LEHDVSL_City_CommutePatterns_Number')\n",
    "fname_CitiesWCommutePatterns_Percent = os.path.join(fname_SLCommutePatterns_gdb, 'LEHDVSL_City_CommutePatterns_Percent')\n",
    "\n",
    "fname_Counties = os.path.join(fname_SLCommutePatterns_gdb, 'Counties')\n",
    "\n",
    "def deleteIfExists(obj):\n",
    "    if arcpy.Exists(obj): arcpy.Delete_management(obj)\n",
    "\n",
    "#if results geodatabase doesn't exist, create it\n",
    "print(\"Checking if \" + fname_SLCommutePatterns_gdb + \" exists...\")\n",
    "if not arcpy.Exists(os.path.join(dirResults, gdb_SLCommutePatterns)):\n",
    "    print(\"Creating \" + fname_SLCommutePatterns_gdb + \"...\")\n",
    "    arcpy.management.CreateFileGDB(dirResults, gdb_SLCommutePatterns)\n",
    "else:\n",
    "    print(gdb_SLCommutePatterns + \" exists...\")\n",
    "\n",
    "#print(AnalysisAreasInput)"
   ]
  },
  {
   "cell_type": "markdown",
   "metadata": {},
   "source": [
    "# Create Cities/Townships Feature Class with 3-Digit Code and County FIPS"
   ]
  }
 ],
 "metadata": {
  "kernelspec": {
   "display_name": "arcgispro-py3-clone",
   "language": "python",
   "name": "arcgispro-py3-clone"
  },
  "language_info": {
   "codemirror_mode": {
    "name": "ipython",
    "version": 3
   },
   "file_extension": ".py",
   "mimetype": "text/x-python",
   "name": "python",
   "nbconvert_exporter": "python",
   "pygments_lexer": "ipython3",
   "version": "3.7.11"
  }
 },
 "nbformat": 4,
 "nbformat_minor": 4
}
